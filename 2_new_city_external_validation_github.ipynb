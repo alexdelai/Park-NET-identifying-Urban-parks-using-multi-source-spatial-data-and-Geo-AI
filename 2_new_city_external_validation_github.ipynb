{
  "nbformat": 4,
  "nbformat_minor": 0,
  "metadata": {
    "colab": {
      "name": "2_new_city_external_validation_github.ipynb",
      "provenance": [],
      "collapsed_sections": [],
      "machine_shape": "hm"
    },
    "kernelspec": {
      "name": "python3",
      "display_name": "Python 3"
    },
    "language_info": {
      "name": "python"
    },
    "accelerator": "GPU"
  },
  "cells": [
    {
      "cell_type": "markdown",
      "source": [
        "still in progress"
      ],
      "metadata": {
        "id": "y5vPalBwhN0A"
      }
    },
    {
      "cell_type": "markdown",
      "source": [
        "evaluate accuracy on different city"
      ],
      "metadata": {
        "id": "yxcP-IHkDj6E"
      }
    },
    {
      "cell_type": "code",
      "execution_count": null,
      "metadata": {
        "colab": {
          "base_uri": "https://localhost:8080/"
        },
        "id": "D53CpL16DjCd",
        "outputId": "50672458-c1d5-4d98-c9bd-1a8f13a47375"
      },
      "outputs": [
        {
          "output_type": "stream",
          "name": "stdout",
          "text": [
            "Collecting patchify\n",
            "  Downloading patchify-0.2.3-py3-none-any.whl (6.6 kB)\n",
            "Requirement already satisfied: numpy<2,>=1 in /usr/local/lib/python3.7/dist-packages (from patchify) (1.21.6)\n",
            "Installing collected packages: patchify\n",
            "Successfully installed patchify-0.2.3\n"
          ]
        }
      ],
      "source": [
        "!pip install patchify"
      ]
    },
    {
      "cell_type": "code",
      "source": [
        "# Connecting to the Drive\n",
        "from google.colab import drive\n",
        "drive.mount('/content/drive')"
      ],
      "metadata": {
        "colab": {
          "base_uri": "https://localhost:8080/"
        },
        "id": "5g2tzIbWDm0v",
        "outputId": "09af95c7-7333-4f01-bc5b-312364f0b6fe"
      },
      "execution_count": null,
      "outputs": [
        {
          "output_type": "stream",
          "name": "stdout",
          "text": [
            "Mounted at /content/drive\n"
          ]
        }
      ]
    },
    {
      "cell_type": "code",
      "source": [
        "import os\n",
        "import numpy as np\n",
        "%matplotlib inline"
      ],
      "metadata": {
        "id": "YOEeT5EXDoei"
      },
      "execution_count": null,
      "outputs": []
    },
    {
      "cell_type": "code",
      "source": [
        "from PIL import Image\n",
        "from patchify import patchify\n",
        "from sklearn.preprocessing import MinMaxScaler, StandardScaler"
      ],
      "metadata": {
        "id": "UBBabYP6DqSG"
      },
      "execution_count": null,
      "outputs": []
    },
    {
      "cell_type": "code",
      "source": [
        "from osgeo import gdal"
      ],
      "metadata": {
        "id": "AeFwRdILEcv7"
      },
      "execution_count": null,
      "outputs": []
    },
    {
      "cell_type": "code",
      "source": [
        "# import dataset for Philadelphia\n",
        "# Open the file:\n",
        "image_new = gdal.Open('link to image chips from new city')\n",
        "park_new = gdal.Open('link to park chips from new city')\n",
        "\n",
        "# turn into array\n",
        "image_array_new = image_new.ReadAsArray()\n",
        "image_array_new = np.transpose(image_array_new, [1, 2, 0]) # transpose the bands to the third dimension\n",
        "print(image_array_new.shape)\n",
        "\n",
        "park_array_new = park_new.ReadAsArray()\n",
        "park_array_new = np.expand_dims(park_array_new, axis = 2)\n",
        "print(park_array_new.shape)"
      ],
      "metadata": {
        "colab": {
          "base_uri": "https://localhost:8080/"
        },
        "id": "k7OO3O8qEeQ5",
        "outputId": "0205767e-f375-476d-a207-fb08ab6b672d"
      },
      "execution_count": null,
      "outputs": [
        {
          "output_type": "stream",
          "name": "stdout",
          "text": [
            "(2894, 2738, 5)\n",
            "(2894, 2738, 1)\n"
          ]
        }
      ]
    },
    {
      "cell_type": "code",
      "source": [
        "# cropping satellite image\n",
        "\n",
        "#have to be the same as saved patches\n",
        "patch_size = 256\n",
        "step = 48\n",
        "scaler = MinMaxScaler()\n",
        "image_dataset_new = []  \n",
        "\n",
        "patches_img = patchify(image_array_new, (patch_size, patch_size, 5), step=step)  \n",
        "for i in range(patches_img.shape[0]):\n",
        "  for j in range(patches_img.shape[1]):\n",
        "    single_patch_img = patches_img[i,j,:,:]             \n",
        "    single_patch_img = scaler.fit_transform(single_patch_img.reshape(-1, single_patch_img.shape[-1])).reshape(single_patch_img.shape)\n",
        "    single_patch_img = single_patch_img[0]                              \n",
        "    image_dataset_new.append(single_patch_img) \n",
        "\n",
        "image_dataset_new = np.array(image_dataset_new)\n",
        "print(\"The shape for image dataset is:\", image_dataset_new.shape)\n",
        "\n",
        "# cropping park dataset\n",
        "park_dataset_new = []\n",
        "patches_img = patchify(park_array_new, (patch_size, patch_size, 1), step=step)  \n",
        "for i in range(patches_img.shape[0]):\n",
        "  for j in range(patches_img.shape[1]):\n",
        "    single_patch_img = patches_img[i,j,:,:]\n",
        "    single_patch_img = scaler.fit_transform(single_patch_img.reshape(-1, single_patch_img.shape[-1])).reshape(single_patch_img.shape)\n",
        "    single_patch_img = single_patch_img[0]                             \n",
        "    park_dataset_new.append(single_patch_img)\n",
        "\n",
        "park_dataset_new = np.array(park_dataset_new)\n",
        "print(\"The shape for park dataset is:\", park_dataset_new.shape)"
      ],
      "metadata": {
        "colab": {
          "base_uri": "https://localhost:8080/"
        },
        "id": "1yXRATdPElXK",
        "outputId": "11424fde-9928-43a5-d8c4-8c1ebf050312"
      },
      "execution_count": null,
      "outputs": [
        {
          "output_type": "stream",
          "name": "stdout",
          "text": [
            "The shape for image dataset is: (2860, 256, 256, 5)\n",
            "The shape for park dataset is: (2860, 256, 256, 1)\n"
          ]
        }
      ]
    },
    {
      "cell_type": "code",
      "source": [
        "image_dataset_new[4][image_dataset_new[4] < 0] = 0"
      ],
      "metadata": {
        "id": "RkK6EoAmElvd"
      },
      "execution_count": null,
      "outputs": []
    },
    {
      "cell_type": "code",
      "source": [
        "from tensorflow.keras.optimizers import Adam\n",
        "#from focal_loss import BinaryFocalLoss\n",
        "import tensorflow as tf\n",
        "from keras.models import load_model\n",
        "from tensorflow.keras.metrics import MeanIoU"
      ],
      "metadata": {
        "id": "UT1anyV-FOvh"
      },
      "execution_count": null,
      "outputs": []
    },
    {
      "cell_type": "code",
      "source": [
        "\n",
        "model_test = load_model('/content/drive/MyDrive/1Utrecht_University/THESIS/Seattle_data/model-unet-10_seattle_san_francisco.h5', compile = False)\n",
        "\n",
        "model_test.compile(optimizer=Adam(learning_rate = 1e-4), loss='binary_crossentropy', metrics=['accuracy']) # use the same parameters as in original training!"
      ],
      "metadata": {
        "id": "XeUpWxwoFGaK"
      },
      "execution_count": null,
      "outputs": []
    },
    {
      "cell_type": "code",
      "source": [
        "# get IoU for new dataset\n",
        "y_pred = model_test.predict(image_dataset_new)\n",
        "y_pred_thresholded = y_pred > 0.5\n",
        "IOU_keras = MeanIoU(num_classes = 2)  \n",
        "IOU_keras.update_state(y_pred_thresholded, park_dataset_new)\n",
        "print(\"Mean IoU =\", IOU_keras.result().numpy())\n",
        "\n",
        "#for model trained on both Seattle and San Francisco - 0,42"
      ],
      "metadata": {
        "colab": {
          "base_uri": "https://localhost:8080/"
        },
        "id": "v3IiTtM8Epfj",
        "outputId": "e2796a03-e5d3-4eaa-cd77-1d8c63341ab5"
      },
      "execution_count": null,
      "outputs": [
        {
          "output_type": "stream",
          "name": "stdout",
          "text": [
            "Mean IoU = 0.42766362\n"
          ]
        }
      ]
    },
    {
      "cell_type": "code",
      "source": [
        "y_pred.shape"
      ],
      "metadata": {
        "colab": {
          "base_uri": "https://localhost:8080/"
        },
        "id": "klPUSHnJdtvI",
        "outputId": "d56611d7-4428-40a9-8a9f-ecb9c61e83f0"
      },
      "execution_count": null,
      "outputs": [
        {
          "output_type": "execute_result",
          "data": {
            "text/plain": [
              "(2860, 256, 256, 1)"
            ]
          },
          "metadata": {},
          "execution_count": 14
        }
      ]
    },
    {
      "cell_type": "code",
      "source": [
        "y_pred[0][0][0]"
      ],
      "metadata": {
        "colab": {
          "base_uri": "https://localhost:8080/"
        },
        "id": "xPLRmCLCeyMI",
        "outputId": "31dc0856-77e7-4711-c99e-ecaf75a6bbc6"
      },
      "execution_count": null,
      "outputs": [
        {
          "output_type": "execute_result",
          "data": {
            "text/plain": [
              "array([0.5238025], dtype=float32)"
            ]
          },
          "metadata": {},
          "execution_count": 16
        }
      ]
    },
    {
      "cell_type": "code",
      "source": [
        "y_pred_thresholded[0][0][0]"
      ],
      "metadata": {
        "colab": {
          "base_uri": "https://localhost:8080/"
        },
        "id": "fnMNYro4eQ2I",
        "outputId": "89e61ccb-9d96-43aa-f08a-09ff6ad80128"
      },
      "execution_count": null,
      "outputs": [
        {
          "output_type": "execute_result",
          "data": {
            "text/plain": [
              "array([ True])"
            ]
          },
          "metadata": {},
          "execution_count": 17
        }
      ]
    },
    {
      "cell_type": "code",
      "source": [
        "loss, acc = model_test.evaluate(image_dataset_new, park_dataset_new, verbose = 1)"
      ],
      "metadata": {
        "id": "fyjTHGw-EwYS",
        "colab": {
          "base_uri": "https://localhost:8080/"
        },
        "outputId": "e937cfd3-e971-4fae-c9df-bbde611b01fe"
      },
      "execution_count": null,
      "outputs": [
        {
          "output_type": "stream",
          "name": "stdout",
          "text": [
            "90/90 [==============================] - 38s 282ms/step - loss: 1.2995 - accuracy: 0.7003\n"
          ]
        }
      ]
    },
    {
      "cell_type": "code",
      "source": [
        "loss\n",
        "#1,2994"
      ],
      "metadata": {
        "id": "O3mWQdRLEqOj",
        "colab": {
          "base_uri": "https://localhost:8080/"
        },
        "outputId": "426e782a-d5dc-43bf-fe8f-ed92851803af"
      },
      "execution_count": null,
      "outputs": [
        {
          "output_type": "execute_result",
          "data": {
            "text/plain": [
              "1.2994917631149292"
            ]
          },
          "metadata": {},
          "execution_count": 13
        }
      ]
    },
    {
      "cell_type": "code",
      "source": [
        "acc\n",
        "#0,70"
      ],
      "metadata": {
        "colab": {
          "base_uri": "https://localhost:8080/"
        },
        "id": "11qmjMYr_4_P",
        "outputId": "0e20cc1a-d7d7-4e78-9a19-2a10f1fe7be1"
      },
      "execution_count": null,
      "outputs": [
        {
          "output_type": "execute_result",
          "data": {
            "text/plain": [
              "0.7002856731414795"
            ]
          },
          "metadata": {},
          "execution_count": 14
        }
      ]
    }
  ]
}